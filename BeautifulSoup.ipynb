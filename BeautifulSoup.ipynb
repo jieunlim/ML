{
  "nbformat": 4,
  "nbformat_minor": 0,
  "metadata": {
    "colab": {
      "name": "Assg1_Jieun Lim.ipynb",
      "provenance": [],
      "collapsed_sections": []
    },
    "kernelspec": {
      "display_name": "Python 3",
      "language": "python",
      "name": "python3"
    },
    "language_info": {
      "name": ""
    }
  },
  "cells": [
    {
      "cell_type": "code",
      "metadata": {
        "colab": {
          "base_uri": "https://localhost:8080/"
        },
        "id": "vtvPK63Lbd3X",
        "outputId": "590ca725-256d-4686-cc3a-7fdfd02fce7c"
      },
      "source": [
        "import json\n",
        "import requests\n",
        "from bs4 import BeautifulSoup\n",
        "import re\n",
        "from nltk.tokenize import sent_tokenize, word_tokenize\n",
        "import nltk\n",
        "nltk.download('punkt')\n",
        "import random\n",
        "import pandas as pd\n",
        "import numpy as np"
      ],
      "execution_count": null,
      "outputs": [
        {
          "output_type": "stream",
          "text": [
            "[nltk_data] Downloading package punkt to /root/nltk_data...\n",
            "[nltk_data]   Package punkt is already up-to-date!\n"
          ],
          "name": "stdout"
        }
      ]
    },
    {
      "cell_type": "code",
      "metadata": {
        "colab": {
          "base_uri": "https://localhost:8080/"
        },
        "id": "CZxrkbAfb0Lr",
        "outputId": "174bb628-2640-4d9a-d059-f3531c65b92c"
      },
      "source": [
        "try:\n",
        "  from googlesearch import search\n",
        "except ImportError:\n",
        "  print(\"No module named 'google' found\")\n",
        "\n",
        "keyword = 'covid19'\n",
        "\n",
        "websites = []\n",
        "\n",
        "for site in search (keyword, tld='com', lang = 'en', num = 20, stop =20, pause = 2):\n",
        "  websites.append(site)\n",
        "\n",
        "print(websites)"
      ],
      "execution_count": null,
      "outputs": [
        {
          "output_type": "stream",
          "text": [
            "['https://www.nytimes.com/live/2021/03/01/world/covid-19-coronavirus', 'https://www.cnn.com/world/live-news/coronavirus-pandemic-vaccine-updates-03-02-21/index.html', 'https://www.nytimes.com/live/2021/03/02/world/covid-19-coronavirus', 'https://covid19.who.int/', 'https://covid19.ca.gov/', 'https://covid19.ca.gov/vaccines/', 'https://covid19.ca.gov/stay-home-except-for-essential-needs/', 'https://covid19.ca.gov/safer-economy/', 'https://covid19.ca.gov/travel/', 'https://www.cdc.gov/coronavirus/2019-ncov/index.html', 'https://www.cdc.gov/coronavirus/2019-ncov/symptoms-testing/symptoms.html', 'https://www.cdc.gov/coronavirus/2019-ncov/vaccines/index.html', 'https://covid.cdc.gov/covid-data-tracker/', 'https://www.cdc.gov/coronavirus/2019-ncov/if-you-are-sick/quarantine.html', 'https://www.cdc.gov/coronavirus/2019-ncov/if-you-are-sick/steps-when-sick.html', 'https://www.cdc.gov/coronavirus/2019-ncov/if-you-are-sick/care-for-someone.html', 'https://www.cdc.gov/coronavirus/2019-ncov/need-extra-precautions/older-adults.html', 'https://scdhec.gov/covid19', 'https://www.health.state.mn.us/diseases/coronavirus/situation.html', 'https://covid19.colorado.gov/']\n"
          ],
          "name": "stdout"
        }
      ]
    },
    {
      "cell_type": "code",
      "metadata": {
        "colab": {
          "base_uri": "https://localhost:8080/"
        },
        "id": "FCYHC9LPcS4f",
        "outputId": "e1a96f9f-6433-45b2-e3ee-a65977e8574e"
      },
      "source": [
        "# image\n",
        "\n",
        "image_urls = []\n",
        "\n",
        "for site in websites:\n",
        "    source = requests.get(site).text\n",
        "    bs = BeautifulSoup(source, 'html.parser')\n",
        "    images = bs.find_all('img', {'src':re.compile('([-\\w]+\\.(?:jpg|jpeg|png))')})\n",
        "    links = []\n",
        "    for image in images: \n",
        "        links.append(image['src'])\n",
        "    image_urls.append(links)\n",
        "    \n",
        "print(image_urls[:5])\n",
        "\n"
      ],
      "execution_count": null,
      "outputs": [
        {
          "output_type": "stream",
          "text": [
            "[['https://static01.nyt.com/images/2021/03/01/us/01virus-brief-reopening/01virus-brief-reopening-articleLarge.jpg?quality=75&auto=webp&disable=upscale', 'https://static01.nytimes.com/newsgraphics/2020/12/09/vaccine-distribution-tracker/assets/scoop-vaccine-distribution-tracker-threeByTwoSmallAt2X.png', 'https://static01.nyt.com/images/2021/03/01/world/01virus-briefing-astrazenecadata1/01virus-briefing-astrazenecadata1-articleLarge.jpg?quality=75&auto=webp&disable=upscale', 'https://static01.nyt.com/images/2021/03/01/us/01virus-briefing-california-schools1/merlin_184430547_323a1ef8-5d4e-4251-bd70-062996d30dc2-articleLarge.jpg?quality=75&auto=webp&disable=upscale', 'https://static01.nyt.com/images/2021/03/01/science/01virus-briefing-nursing-home-turnover1/merlin_173519019_916a9410-1e54-471d-8e20-6e2254372d77-articleLarge.jpg?quality=75&auto=webp&disable=upscale', 'https://static01.nyt.com/images/2021/03/02/us/02virus-brief-vaccine-eligibility/merlin_184244694_463b50af-bf28-4962-8735-77b9c57ed4db-articleLarge.jpg?quality=75&auto=webp&disable=upscale', 'https://static01.nyt.com/images/2021/02/28/world/28virus-briefing-testing-slump/28virus-briefing-testing-slump-articleLarge.jpg?quality=75&auto=webp&disable=upscale', 'https://static01.nyt.com/images/2021/03/01/us/01vid-jandj-vaccine1/01vid-jandj-vaccine1-videoSixteenByNine3000.jpg', 'https://static01.nyt.com/images/2020/12/18/us/johnson-johnson-covid-19-vaccine-promo-1608323214725/johnson-johnson-covid-19-vaccine-promo-1608323214725-articleLarge-v8.png', 'https://static01.nyt.com/images/2014/10/16/business/01virus-brief-frontier-masks/01virus-brief-frontier-masks-articleLarge-v3.jpg?quality=75&auto=webp&disable=upscale', 'https://static01.nyt.com/images/2021/03/01/world/01Virus-briefing-india/01Virus-briefing-india-videoSixteenByNine1050.jpg', 'https://static01.nyt.com/images/2021/03/01/us/politics/01new-washington-briefing-trump-vaccine/merlin_182604096_eb7195af-7aff-4cc1-896f-5439b739f528-articleLarge.jpg?quality=75&auto=webp&disable=upscale', 'https://static01.nyt.com/images/2021/02/28/us/28virus-briefing-Houston-variants/merlin_184028193_a98e2191-9ced-42ae-b5e2-ec40515a0d46-articleLarge.jpg?quality=75&auto=webp&disable=upscale', 'https://static01.nyt.com/images/2021/03/01/science/01virus-brief-vax-nodes/merlin_182913006_f36d75d1-a312-4fe1-b2b9-3a702c6d3e6d-articleLarge.jpg?quality=75&auto=webp&disable=upscale', 'https://static01.nyt.com/images/2021/03/28/us/28virus-briefing-jandj-compared2/28virus-briefing-jandj-compared2-articleLarge.jpg?quality=75&auto=webp&disable=upscale', 'https://static01.nyt.com/images/2021/02/25/business/state-tax-revenue-map-1614295652582/state-tax-revenue-map-1614295652582-articleLarge-v3.png?quality=75&auto=webp&disable=upscale', 'https://static01.nyt.com/images/2021/03/01/world/01virus-briefing-europe-certificates1/01virus-briefing-europe-certificates1-articleLarge.jpg?quality=75&auto=webp&disable=upscale'], ['https://dynaimage.cdn.cnn.com/cnn/q_auto/https%3A%2F%2Fcdn.cnn.com%2Fcnnnext%2Fdam%2Fassets%2F210301125211-covid-vaccine-comparison-wellness-super-tease.jpg', 'https://dynaimage.cdn.cnn.com/cnn/digital-images/org/b6919c52-ea59-44b5-997c-68ac899179ea.jpg', 'https://dynaimage.cdn.cnn.com/cnn/digital-images/org/e54cfdb2-5168-4740-a302-e69d32ec380a.jpg', 'https://dynaimage.cdn.cnn.com/cnn/digital-images/org/06d1a296-6cbc-42a3-82e2-2523e0b42799.jpg', 'https://dynaimage.cdn.cnn.com/cnn/digital-images/org/251fa36f-1f36-4ec8-8792-9bd39bd56fe9.jpg', 'https://dynaimage.cdn.cnn.com/cnn/digital-images/org/66fc1f03-c6de-4333-bc0d-282e6a7c63f0.jpg', 'https://dynaimage.cdn.cnn.com/cnn/digital-images/org/cd41f8f1-70eb-4314-b85c-33e2464bd1e2.jpg'], ['https://static01.nyt.com/images/2021/03/02/world/02virus-brief-brazil-variant/merlin_184453263_e82223f6-2de6-4145-b97c-3e7cf230f56c-articleLarge.jpg?quality=75&auto=webp&disable=upscale', 'https://static01.nytimes.com/newsgraphics/2020/12/09/vaccine-distribution-tracker/assets/scoop-vaccine-distribution-tracker-threeByTwoSmallAt2X.png', 'https://static01.nyt.com/images/2021/03/01/us/01virus-brief-gila/01virus-brief-gila-articleLarge-v2.jpg?quality=75&auto=webp&disable=upscale', 'https://static01.nyt.com/images/2021/03/01/us/01virus-brief-reopening/01virus-brief-reopening-articleLarge.jpg?quality=75&auto=webp&disable=upscale', 'https://static01.nyt.com/images/2021/03/02/us/02virus-brief-campustech/02virus-brief-campustech-articleLarge.jpg?quality=75&auto=webp&disable=upscale', 'https://static01.nyt.com/images/2021/03/02/us/02virus-brief-vaccine-eligibility/merlin_184244694_463b50af-bf28-4962-8735-77b9c57ed4db-articleLarge.jpg?quality=75&auto=webp&disable=upscale', 'https://static01.nyt.com/images/2014/10/16/business/01virus-brief-frontier-masks/01virus-brief-frontier-masks-articleLarge-v3.jpg?quality=75&auto=webp&disable=upscale'], ['https://covid19.who.int/who_share.jpg'], ['/img/hero.jpg', 'https://files.covid19.ca.gov/img/ca-notify-video.jpg']]\n"
          ],
          "name": "stdout"
        }
      ]
    },
    {
      "cell_type": "code",
      "metadata": {
        "colab": {
          "base_uri": "https://localhost:8080/"
        },
        "id": "QwQQeI_rdVGQ",
        "outputId": "5f4eff66-8f29-45be-8fd8-48651279befa"
      },
      "source": [
        "# sentences\n",
        "\n",
        "sentences_list = []\n",
        "keys = ['Vaccine', 'effect']\n",
        "for i in websites:\n",
        "    source = requests.get(i)\n",
        "    sentences = []\n",
        "    text_blobs = re.findall(\"[a-zA-Z0-9 .,-]+\", str(source.content))\n",
        "    for text_blob in text_blobs:\n",
        "        # sentences must have at least one space; filtering for sentences with one or more space\n",
        "      if \" \" not in text_blob:\n",
        "        continue\n",
        "      sents = sent_tokenize(str(text_blob)) \n",
        "      if len(sents) < 2:\n",
        "        continue \n",
        "      for sent in sents:\n",
        "        k = [ w for w in keys if w in sent ]\n",
        "        # only keeping the sentences that contain at least one of the keywords\n",
        "        if len(k) > 0: \n",
        "            sentences.append(sent) \n",
        "    sentences_list.append(sentences)\n",
        "\n",
        "\n",
        "print(sentences_list[:5])\n"
      ],
      "execution_count": null,
      "outputs": [
        {
          "output_type": "stream",
          "text": [
            "[['A first dose of the Oxford-AstraZeneca vaccine substantially reduced the risk of older people becoming ill with Covid-19, scientists in Britain reported on Monday, the strongest sign yet that a shot that much of the world is relying on to end the pandemic will protect the elderly.Four weeks after the first dose, the vaccine was roughly 60 percent effective in preventing Covid-19 among people at least 70 years old in England, the scientists wrote in a paper that was posted online on Monday but not yet published in a journal or vetted by other researchers.That figure appeared to rise in the following week, though there was a high level of statistical uncertainty in the subsequent number.For countries across Europe that have been hesitant about authorizing the AstraZeneca vaccine for use in older people, the data could resolve some of those doubts.', 'The early clinical trials of the AstraZeneca vaccine did not enroll as many older people as the trials of other shots, making a number of European countries uneasy about using it in that age group .But Britain decided to authorize the vaccine for people of all ages, creating a valuable store of data on its effectiveness.In France, one of the countries that had restricted the AstraZeneca vaccine to younger people, the country', 'Among people at least 70 years old, a first dose was 61 percent effective in preventing Covid-19 up to four weeks after the shot, a figure that then plateaued, the study said.', 'In people at least 80 years old, a first dose was 70 percent effective at preventing Covid-19 four weeks later, a figure that rose to 89 percent two weeks after the second shot.', ' Johnson vaccine, though, it may be possible to effectively choose what you get by choosing where you sign up to get it.Health experts say the best shot is the one you can get the soonest, whichever one it turns out to be.', 'Iceland is undertaking a similar effort, he said, and he expects Israel to do so, also.So far, researchers have tried to infer the effect of variants by looking at their prevalence in different populations and by doing laboratory studies.', ' Johnson vaccine is rated as highly effective at preventing serious illness and death, as the Pfizer-BioNTech and Moderna vaccines are.', 'It is also very effective at preventing milder illness, though a bit less so than those two.', ' Johnson vaccine appears to be less prone than the Pfizer-BioNTech and Moderna vaccines to trigger the kinds of side effects that require monitoring after the injection, which may make it more suitable for use at drive-through vaccination sites.', 'There have been reports that side effects tend to be felt more strongly after second doses, which the Johnson', 'Among people at least 70 years old, a first dose was 61 percent effective in preventing Covid-19 up to four weeks after the shot, a figure that then plateaued, the study said.', 'So far, researchers have tried to infer the effect of variants by looking at their prevalence in different populations and by doing laboratory studies.', ' Johnson vaccine is rated as highly effective at preventing serious illness and death, as the Pfizer-BioNTech and Moderna vaccines are.', 'It is also very effective at preventing milder illness, though a bit less so than those two.', ' Johnson vaccine appears to be less prone than the Pfizer-BioNTech and Moderna vaccines to trigger the kinds of side effects that require monitoring after the injection, which may make it more suitable for use at drive-through vaccination sites.', 'There have been reports that side effects tend to be felt more strongly after second doses, which the Johnson', 'Among people at least 70 years old, a first dose was 61 percent effective in preventing Covid-19 up to four weeks after the shot, a figure that then plateaued, the study said.', 'So far, researchers have tried to infer the effect of variants by looking at their prevalence in different populations and by doing laboratory studies.', ' Johnson vaccine is rated as highly effective at preventing serious illness and death, as the Pfizer-BioNTech and Moderna vaccines are.', 'It is also very effective at preventing milder illness, though a bit less so than those two.', ' Johnson vaccine appears to be less prone than the Pfizer-BioNTech and Moderna vaccines to trigger the kinds of side effects that require monitoring after the injection, which may make it more suitable for use at drive-through vaccination sites.', 'There have been reports that side effects tend to be felt more strongly after second doses, which the Johnson'], [' effective, based on US trials.', ' Johnson vaccine, it appears that it, too, is less effective against the South African variant.', 's still very effective.', 'The Pfizer and Moderna vaccines appear to be more effective at preventing mild to moderate disease, about 95', ' effective, based on US trials.', ' Johnson vaccine, it appears that it, too, is less effective against the South African variant.', 's still very effective.', 'The effect was seen three to four weeks after vaccination.'], ['In South Africa, a mutant called B.1.351 can dodge antibodies, blunting the effectiveness of some vaccines.Scientists have also had their eye on a third concerning variant, which arose in Brazil, called P.1.', 'And laboratory experiments suggest that P.1 could weaken the protective effect of a Chinese vaccine now in use in Brazil.The studies have yet to be published in scientific journals.', 'Even then, university administrators could not say whether the technology had been effective because they have not tracked students detected with fevers to see if they went on to get tested.The University of Idaho is one of hundreds of colleges and universities that adopted fever scanners, symptom checkers, wearable heart-rate monitors and other screening technologies this school year.', 'Many universities and colleges are not rigorously studying effectiveness.More than 100 schools are using a free symptom-checking app, CampusClear, that can permit students to enter campus buildings.', 'In South Africa, a mutant called B.1.351 can dodge antibodies, blunting the effectiveness of some vaccines.', 'And laboratory experiments suggest that P.1 could weaken the protective effect of a Chinese vaccine now in use in Brazil.', 'Even then, university administrators could not say whether the technology had been effective because they have not tracked students detected with fevers to see if they went on to get tested.', 'Many universities and colleges are not rigorously studying effectiveness.', 'In South Africa, a mutant called B.1.351 can dodge antibodies, blunting the effectiveness of some vaccines.', 'And laboratory experiments suggest that P.1 could weaken the protective effect of a Chinese vaccine now in use in Brazil.', 'Even then, university administrators could not say whether the technology had been effective because they have not tracked students detected with fevers to see if they went on to get tested.', 'Many universities and colleges are not rigorously studying effectiveness.'], [], ['The California Department of Public Health has released new guidance for youth and adult recreational sports which will go into effect February 26.']]\n"
          ],
          "name": "stdout"
        }
      ]
    },
    {
      "cell_type": "code",
      "metadata": {
        "colab": {
          "base_uri": "https://localhost:8080/"
        },
        "id": "CgjzvJi0gOMq",
        "outputId": "8a0278a0-ef9a-4901-a48f-5584589b4293"
      },
      "source": [
        " # num of outgoing link\n",
        "\n",
        "outgoing_link_count = []\n",
        "\n",
        "for i in websites:\n",
        "    source = requests.get(i).text\n",
        "    bs = BeautifulSoup(source, 'html.parser')\n",
        "    count = 0\n",
        "    for link in bs.findAll('a', attrs={'href': re.compile(\"^http://\")}):\n",
        "        count += 1\n",
        "        \n",
        "    outgoing_link_count.append(count)\n",
        "    \n",
        "print(outgoing_link_count[:5])"
      ],
      "execution_count": null,
      "outputs": [
        {
          "output_type": "stream",
          "text": [
            "[1, 15, 1, 0, 0]\n"
          ],
          "name": "stdout"
        }
      ]
    },
    {
      "cell_type": "code",
      "metadata": {
        "colab": {
          "base_uri": "https://localhost:8080/"
        },
        "id": "KewrNoAQhZoo",
        "outputId": "34bfcbb5-46bc-41ff-9297-732eec07b89b"
      },
      "source": [
        "# Last modified\n",
        "last_modified_list = []\n",
        "for i in websites:\n",
        "    r = requests.get(i, stream=True, allow_redirects=True)\n",
        "    header = r.headers\n",
        "    #check to see if there's the \"last-Modified\" key in the header\n",
        "    if \"Last-Modified\" in header:\n",
        "        url_time = r.headers[\"Last-Modified\"]\n",
        "    #mark it as \"?\" if there's no \"last-Modified\" in the header\n",
        "    else:\n",
        "        url_time = \"?\"\n",
        "    last_modified_list.append(url_time)\n",
        "\n",
        "print(last_modified_list)"
      ],
      "execution_count": null,
      "outputs": [
        {
          "output_type": "stream",
          "text": [
            "['Tue, 02 Mar 2021 11:44:46 GMT', '?', 'Tue, 02 Mar 2021 11:45:23 GMT', 'Tue, 02 Mar 2021 11:32:10 GMT', 'Tue, 02 Mar 2021 01:50:06 GMT', 'Tue, 02 Mar 2021 01:50:06 GMT', 'Tue, 02 Mar 2021 01:50:06 GMT', 'Tue, 02 Mar 2021 01:50:06 GMT', 'Tue, 02 Mar 2021 01:50:06 GMT', '?', '?', '?', 'Fri, 26 Feb 2021 18:47:44 GMT', '?', '?', '?', '?', 'Tue, 02 Mar 2021 11:42:05 GMT', '?', 'Tue, 02 Mar 2021 05:50:36 GMT']\n"
          ],
          "name": "stdout"
        }
      ]
    },
    {
      "cell_type": "code",
      "metadata": {
        "colab": {
          "base_uri": "https://localhost:8080/"
        },
        "id": "p25Z-6DopGJv",
        "outputId": "5d320123-4247-4f08-e881-d8a966450d4e"
      },
      "source": [
        "# Create JSON List\n",
        "JSON_list = []\n",
        "for i in range(0,20):\n",
        "    JSON = {\n",
        "        \"Images\":image_urls[i],\n",
        "        \"Sentences\":sentences_list[i],\n",
        "        \"num_outgoing_links\":outgoing_link_count[i],\n",
        "        \"website_last_modified\":last_modified_list[i]\n",
        "    }\n",
        "    \n",
        "    JSON_list.append(JSON)\n",
        "    \n",
        "print(JSON_list[:2])"
      ],
      "execution_count": null,
      "outputs": [
        {
          "output_type": "stream",
          "text": [
            "[{'Images': ['https://static01.nyt.com/images/2021/03/01/us/01virus-brief-reopening/01virus-brief-reopening-articleLarge.jpg?quality=75&auto=webp&disable=upscale', 'https://static01.nytimes.com/newsgraphics/2020/12/09/vaccine-distribution-tracker/assets/scoop-vaccine-distribution-tracker-threeByTwoSmallAt2X.png', 'https://static01.nyt.com/images/2021/03/01/world/01virus-briefing-astrazenecadata1/01virus-briefing-astrazenecadata1-articleLarge.jpg?quality=75&auto=webp&disable=upscale', 'https://static01.nyt.com/images/2021/03/01/us/01virus-briefing-california-schools1/merlin_184430547_323a1ef8-5d4e-4251-bd70-062996d30dc2-articleLarge.jpg?quality=75&auto=webp&disable=upscale', 'https://static01.nyt.com/images/2021/03/01/science/01virus-briefing-nursing-home-turnover1/merlin_173519019_916a9410-1e54-471d-8e20-6e2254372d77-articleLarge.jpg?quality=75&auto=webp&disable=upscale', 'https://static01.nyt.com/images/2021/03/02/us/02virus-brief-vaccine-eligibility/merlin_184244694_463b50af-bf28-4962-8735-77b9c57ed4db-articleLarge.jpg?quality=75&auto=webp&disable=upscale', 'https://static01.nyt.com/images/2021/02/28/world/28virus-briefing-testing-slump/28virus-briefing-testing-slump-articleLarge.jpg?quality=75&auto=webp&disable=upscale', 'https://static01.nyt.com/images/2021/03/01/us/01vid-jandj-vaccine1/01vid-jandj-vaccine1-videoSixteenByNine3000.jpg', 'https://static01.nyt.com/images/2020/12/18/us/johnson-johnson-covid-19-vaccine-promo-1608323214725/johnson-johnson-covid-19-vaccine-promo-1608323214725-articleLarge-v8.png', 'https://static01.nyt.com/images/2014/10/16/business/01virus-brief-frontier-masks/01virus-brief-frontier-masks-articleLarge-v3.jpg?quality=75&auto=webp&disable=upscale', 'https://static01.nyt.com/images/2021/03/01/world/01Virus-briefing-india/01Virus-briefing-india-videoSixteenByNine1050.jpg', 'https://static01.nyt.com/images/2021/03/01/us/politics/01new-washington-briefing-trump-vaccine/merlin_182604096_eb7195af-7aff-4cc1-896f-5439b739f528-articleLarge.jpg?quality=75&auto=webp&disable=upscale', 'https://static01.nyt.com/images/2021/02/28/us/28virus-briefing-Houston-variants/merlin_184028193_a98e2191-9ced-42ae-b5e2-ec40515a0d46-articleLarge.jpg?quality=75&auto=webp&disable=upscale', 'https://static01.nyt.com/images/2021/03/01/science/01virus-brief-vax-nodes/merlin_182913006_f36d75d1-a312-4fe1-b2b9-3a702c6d3e6d-articleLarge.jpg?quality=75&auto=webp&disable=upscale', 'https://static01.nyt.com/images/2021/03/28/us/28virus-briefing-jandj-compared2/28virus-briefing-jandj-compared2-articleLarge.jpg?quality=75&auto=webp&disable=upscale', 'https://static01.nyt.com/images/2021/02/25/business/state-tax-revenue-map-1614295652582/state-tax-revenue-map-1614295652582-articleLarge-v3.png?quality=75&auto=webp&disable=upscale', 'https://static01.nyt.com/images/2021/03/01/world/01virus-briefing-europe-certificates1/01virus-briefing-europe-certificates1-articleLarge.jpg?quality=75&auto=webp&disable=upscale'], 'Sentences': ['A first dose of the Oxford-AstraZeneca vaccine substantially reduced the risk of older people becoming ill with Covid-19, scientists in Britain reported on Monday, the strongest sign yet that a shot that much of the world is relying on to end the pandemic will protect the elderly.Four weeks after the first dose, the vaccine was roughly 60 percent effective in preventing Covid-19 among people at least 70 years old in England, the scientists wrote in a paper that was posted online on Monday but not yet published in a journal or vetted by other researchers.That figure appeared to rise in the following week, though there was a high level of statistical uncertainty in the subsequent number.For countries across Europe that have been hesitant about authorizing the AstraZeneca vaccine for use in older people, the data could resolve some of those doubts.', 'The early clinical trials of the AstraZeneca vaccine did not enroll as many older people as the trials of other shots, making a number of European countries uneasy about using it in that age group .But Britain decided to authorize the vaccine for people of all ages, creating a valuable store of data on its effectiveness.In France, one of the countries that had restricted the AstraZeneca vaccine to younger people, the country', 'Among people at least 70 years old, a first dose was 61 percent effective in preventing Covid-19 up to four weeks after the shot, a figure that then plateaued, the study said.', 'In people at least 80 years old, a first dose was 70 percent effective at preventing Covid-19 four weeks later, a figure that rose to 89 percent two weeks after the second shot.', ' Johnson vaccine, though, it may be possible to effectively choose what you get by choosing where you sign up to get it.Health experts say the best shot is the one you can get the soonest, whichever one it turns out to be.', 'Iceland is undertaking a similar effort, he said, and he expects Israel to do so, also.So far, researchers have tried to infer the effect of variants by looking at their prevalence in different populations and by doing laboratory studies.', ' Johnson vaccine is rated as highly effective at preventing serious illness and death, as the Pfizer-BioNTech and Moderna vaccines are.', 'It is also very effective at preventing milder illness, though a bit less so than those two.', ' Johnson vaccine appears to be less prone than the Pfizer-BioNTech and Moderna vaccines to trigger the kinds of side effects that require monitoring after the injection, which may make it more suitable for use at drive-through vaccination sites.', 'There have been reports that side effects tend to be felt more strongly after second doses, which the Johnson', 'Among people at least 70 years old, a first dose was 61 percent effective in preventing Covid-19 up to four weeks after the shot, a figure that then plateaued, the study said.', 'So far, researchers have tried to infer the effect of variants by looking at their prevalence in different populations and by doing laboratory studies.', ' Johnson vaccine is rated as highly effective at preventing serious illness and death, as the Pfizer-BioNTech and Moderna vaccines are.', 'It is also very effective at preventing milder illness, though a bit less so than those two.', ' Johnson vaccine appears to be less prone than the Pfizer-BioNTech and Moderna vaccines to trigger the kinds of side effects that require monitoring after the injection, which may make it more suitable for use at drive-through vaccination sites.', 'There have been reports that side effects tend to be felt more strongly after second doses, which the Johnson', 'Among people at least 70 years old, a first dose was 61 percent effective in preventing Covid-19 up to four weeks after the shot, a figure that then plateaued, the study said.', 'So far, researchers have tried to infer the effect of variants by looking at their prevalence in different populations and by doing laboratory studies.', ' Johnson vaccine is rated as highly effective at preventing serious illness and death, as the Pfizer-BioNTech and Moderna vaccines are.', 'It is also very effective at preventing milder illness, though a bit less so than those two.', ' Johnson vaccine appears to be less prone than the Pfizer-BioNTech and Moderna vaccines to trigger the kinds of side effects that require monitoring after the injection, which may make it more suitable for use at drive-through vaccination sites.', 'There have been reports that side effects tend to be felt more strongly after second doses, which the Johnson'], 'num_outgoing_links': 1, 'website_last_modified': 'Tue, 02 Mar 2021 11:44:46 GMT'}, {'Images': ['https://dynaimage.cdn.cnn.com/cnn/q_auto/https%3A%2F%2Fcdn.cnn.com%2Fcnnnext%2Fdam%2Fassets%2F210301125211-covid-vaccine-comparison-wellness-super-tease.jpg', 'https://dynaimage.cdn.cnn.com/cnn/digital-images/org/b6919c52-ea59-44b5-997c-68ac899179ea.jpg', 'https://dynaimage.cdn.cnn.com/cnn/digital-images/org/e54cfdb2-5168-4740-a302-e69d32ec380a.jpg', 'https://dynaimage.cdn.cnn.com/cnn/digital-images/org/06d1a296-6cbc-42a3-82e2-2523e0b42799.jpg', 'https://dynaimage.cdn.cnn.com/cnn/digital-images/org/251fa36f-1f36-4ec8-8792-9bd39bd56fe9.jpg', 'https://dynaimage.cdn.cnn.com/cnn/digital-images/org/66fc1f03-c6de-4333-bc0d-282e6a7c63f0.jpg', 'https://dynaimage.cdn.cnn.com/cnn/digital-images/org/cd41f8f1-70eb-4314-b85c-33e2464bd1e2.jpg'], 'Sentences': [' effective, based on US trials.', ' Johnson vaccine, it appears that it, too, is less effective against the South African variant.', 's still very effective.', 'The Pfizer and Moderna vaccines appear to be more effective at preventing mild to moderate disease, about 95', ' effective, based on US trials.', ' Johnson vaccine, it appears that it, too, is less effective against the South African variant.', 's still very effective.', 'The effect was seen three to four weeks after vaccination.'], 'num_outgoing_links': 15, 'website_last_modified': '?'}]\n"
          ],
          "name": "stdout"
        }
      ]
    },
    {
      "cell_type": "code",
      "metadata": {
        "id": "PddIq9RWqAKx"
      },
      "source": [
        "# append the image lists with \"?\" if their length is under 5\n",
        "for i in range(0,20):\n",
        "    if len(JSON_list[i]['Images'])  < 5:\n",
        "        while len(JSON_list[i]['Images']) < 5:\n",
        "            a = \"?\"\n",
        "            JSON_list[i]['Images'].append(a)"
      ],
      "execution_count": null,
      "outputs": []
    },
    {
      "cell_type": "code",
      "metadata": {
        "colab": {
          "base_uri": "https://localhost:8080/",
          "height": 359
        },
        "id": "DUP7n8c-rHpa",
        "outputId": "dbc5d16e-e718-4a74-b661-819205d2dc06"
      },
      "source": [
        "# flatten the json object\n",
        "tocsv = pd.json_normalize(JSON_list)\n",
        "tocsv.head(10)"
      ],
      "execution_count": null,
      "outputs": [
        {
          "output_type": "execute_result",
          "data": {
            "text/html": [
              "<div>\n",
              "<style scoped>\n",
              "    .dataframe tbody tr th:only-of-type {\n",
              "        vertical-align: middle;\n",
              "    }\n",
              "\n",
              "    .dataframe tbody tr th {\n",
              "        vertical-align: top;\n",
              "    }\n",
              "\n",
              "    .dataframe thead th {\n",
              "        text-align: right;\n",
              "    }\n",
              "</style>\n",
              "<table border=\"1\" class=\"dataframe\">\n",
              "  <thead>\n",
              "    <tr style=\"text-align: right;\">\n",
              "      <th></th>\n",
              "      <th>Images</th>\n",
              "      <th>Sentences</th>\n",
              "      <th>num_outgoing_links</th>\n",
              "      <th>website_last_modified</th>\n",
              "    </tr>\n",
              "  </thead>\n",
              "  <tbody>\n",
              "    <tr>\n",
              "      <th>0</th>\n",
              "      <td>[https://static01.nyt.com/images/2021/03/01/us...</td>\n",
              "      <td>[A first dose of the Oxford-AstraZeneca vaccin...</td>\n",
              "      <td>1</td>\n",
              "      <td>Tue, 02 Mar 2021 11:44:46 GMT</td>\n",
              "    </tr>\n",
              "    <tr>\n",
              "      <th>1</th>\n",
              "      <td>[https://dynaimage.cdn.cnn.com/cnn/q_auto/http...</td>\n",
              "      <td>[ effective, based on US trials.,  Johnson vac...</td>\n",
              "      <td>15</td>\n",
              "      <td>?</td>\n",
              "    </tr>\n",
              "    <tr>\n",
              "      <th>2</th>\n",
              "      <td>[https://static01.nyt.com/images/2021/03/02/wo...</td>\n",
              "      <td>[In South Africa, a mutant called B.1.351 can ...</td>\n",
              "      <td>1</td>\n",
              "      <td>Tue, 02 Mar 2021 11:45:23 GMT</td>\n",
              "    </tr>\n",
              "    <tr>\n",
              "      <th>3</th>\n",
              "      <td>[https://covid19.who.int/who_share.jpg, ?, ?, ...</td>\n",
              "      <td>[]</td>\n",
              "      <td>0</td>\n",
              "      <td>Tue, 02 Mar 2021 11:32:10 GMT</td>\n",
              "    </tr>\n",
              "    <tr>\n",
              "      <th>4</th>\n",
              "      <td>[/img/hero.jpg, https://files.covid19.ca.gov/i...</td>\n",
              "      <td>[The California Department of Public Health ha...</td>\n",
              "      <td>0</td>\n",
              "      <td>Tue, 02 Mar 2021 01:50:06 GMT</td>\n",
              "    </tr>\n",
              "    <tr>\n",
              "      <th>5</th>\n",
              "      <td>[https://files.covid19.ca.gov/img/Vaccinate_AL...</td>\n",
              "      <td>[x99s safe, effective, and free Vaccinations a...</td>\n",
              "      <td>0</td>\n",
              "      <td>Tue, 02 Mar 2021 01:50:06 GMT</td>\n",
              "    </tr>\n",
              "    <tr>\n",
              "      <th>6</th>\n",
              "      <td>[?, ?, ?, ?, ?]</td>\n",
              "      <td>[This interim guidance is effective immediatel...</td>\n",
              "      <td>0</td>\n",
              "      <td>Tue, 02 Mar 2021 01:50:06 GMT</td>\n",
              "    </tr>\n",
              "    <tr>\n",
              "      <th>7</th>\n",
              "      <td>[https://public.tableau.com/static/images/CO/C...</td>\n",
              "      <td>[]</td>\n",
              "      <td>0</td>\n",
              "      <td>Tue, 02 Mar 2021 01:50:06 GMT</td>\n",
              "    </tr>\n",
              "    <tr>\n",
              "      <th>8</th>\n",
              "      <td>[?, ?, ?, ?, ?]</td>\n",
              "      <td>[]</td>\n",
              "      <td>0</td>\n",
              "      <td>Tue, 02 Mar 2021 01:50:06 GMT</td>\n",
              "    </tr>\n",
              "    <tr>\n",
              "      <th>9</th>\n",
              "      <td>[/coronavirus/2019-ncov/images/site-banner/cas...</td>\n",
              "      <td>[Studies show COVID-19 vaccines are safe and v...</td>\n",
              "      <td>0</td>\n",
              "      <td>?</td>\n",
              "    </tr>\n",
              "  </tbody>\n",
              "</table>\n",
              "</div>"
            ],
            "text/plain": [
              "                                              Images  ...          website_last_modified\n",
              "0  [https://static01.nyt.com/images/2021/03/01/us...  ...  Tue, 02 Mar 2021 11:44:46 GMT\n",
              "1  [https://dynaimage.cdn.cnn.com/cnn/q_auto/http...  ...                              ?\n",
              "2  [https://static01.nyt.com/images/2021/03/02/wo...  ...  Tue, 02 Mar 2021 11:45:23 GMT\n",
              "3  [https://covid19.who.int/who_share.jpg, ?, ?, ...  ...  Tue, 02 Mar 2021 11:32:10 GMT\n",
              "4  [/img/hero.jpg, https://files.covid19.ca.gov/i...  ...  Tue, 02 Mar 2021 01:50:06 GMT\n",
              "5  [https://files.covid19.ca.gov/img/Vaccinate_AL...  ...  Tue, 02 Mar 2021 01:50:06 GMT\n",
              "6                                    [?, ?, ?, ?, ?]  ...  Tue, 02 Mar 2021 01:50:06 GMT\n",
              "7  [https://public.tableau.com/static/images/CO/C...  ...  Tue, 02 Mar 2021 01:50:06 GMT\n",
              "8                                    [?, ?, ?, ?, ?]  ...  Tue, 02 Mar 2021 01:50:06 GMT\n",
              "9  [/coronavirus/2019-ncov/images/site-banner/cas...  ...                              ?\n",
              "\n",
              "[10 rows x 4 columns]"
            ]
          },
          "metadata": {
            "tags": []
          },
          "execution_count": 100
        }
      ]
    },
    {
      "cell_type": "code",
      "metadata": {
        "id": "p3m5GpbArKdD"
      },
      "source": [
        "\n",
        "# flatten the json object in a better fashion (flat by sentences)\n",
        "def flatten_json(json):\n",
        "    out = {}\n",
        "\n",
        "    def flatten(x, name=''):\n",
        "        if isinstance(x, dict):\n",
        "            for a in x:\n",
        "                flatten(x[a], name + a + '_')\n",
        "        elif type(x) is list:\n",
        "            i = 1\n",
        "            for a in x:\n",
        "                flatten(a, name + str(i) + '_')\n",
        "                i += 1\n",
        "        else:\n",
        "            out[name[:-1]] = x\n",
        "\n",
        "    flatten(json)\n",
        "    return out\n"
      ],
      "execution_count": null,
      "outputs": []
    },
    {
      "cell_type": "code",
      "metadata": {
        "colab": {
          "base_uri": "https://localhost:8080/"
        },
        "id": "_u16OYNkrPb7",
        "outputId": "271ae701-7fe3-4488-bafc-c2c552423f00"
      },
      "source": [
        "a = 0\n",
        "JSON_list_final = []\n",
        "for i in JSON_list:\n",
        "  for j in i['Sentences']:\n",
        "      if(j == '?'):\n",
        "        continue\n",
        "\n",
        "      JSON = {\n",
        "      \"Sentence\":j,\n",
        "      \"Images\":JSON_list[a]['Images'],\n",
        "      \"num_outgoing_links\":JSON_list[a]['num_outgoing_links'],\n",
        "      \"website_last_modified\":JSON_list[a]['website_last_modified']\n",
        "      }\n",
        "      JSON = flatten_json(JSON)\n",
        "      JSON_list_final.append(JSON)\n",
        "  a = a + 1\n",
        "\n",
        "print(JSON_list_final[:2])"
      ],
      "execution_count": null,
      "outputs": [
        {
          "output_type": "stream",
          "text": [
            "[{'Sentence': 'A first dose of the Oxford-AstraZeneca vaccine substantially reduced the risk of older people becoming ill with Covid-19, scientists in Britain reported on Monday, the strongest sign yet that a shot that much of the world is relying on to end the pandemic will protect the elderly.Four weeks after the first dose, the vaccine was roughly 60 percent effective in preventing Covid-19 among people at least 70 years old in England, the scientists wrote in a paper that was posted online on Monday but not yet published in a journal or vetted by other researchers.That figure appeared to rise in the following week, though there was a high level of statistical uncertainty in the subsequent number.For countries across Europe that have been hesitant about authorizing the AstraZeneca vaccine for use in older people, the data could resolve some of those doubts.', 'Images_1': 'https://static01.nyt.com/images/2021/03/01/us/01virus-brief-reopening/01virus-brief-reopening-articleLarge.jpg?quality=75&auto=webp&disable=upscale', 'Images_2': 'https://static01.nytimes.com/newsgraphics/2020/12/09/vaccine-distribution-tracker/assets/scoop-vaccine-distribution-tracker-threeByTwoSmallAt2X.png', 'Images_3': 'https://static01.nyt.com/images/2021/03/01/world/01virus-briefing-astrazenecadata1/01virus-briefing-astrazenecadata1-articleLarge.jpg?quality=75&auto=webp&disable=upscale', 'Images_4': 'https://static01.nyt.com/images/2021/03/01/us/01virus-briefing-california-schools1/merlin_184430547_323a1ef8-5d4e-4251-bd70-062996d30dc2-articleLarge.jpg?quality=75&auto=webp&disable=upscale', 'Images_5': 'https://static01.nyt.com/images/2021/03/01/science/01virus-briefing-nursing-home-turnover1/merlin_173519019_916a9410-1e54-471d-8e20-6e2254372d77-articleLarge.jpg?quality=75&auto=webp&disable=upscale', 'Images_6': 'https://static01.nyt.com/images/2021/03/02/us/02virus-brief-vaccine-eligibility/merlin_184244694_463b50af-bf28-4962-8735-77b9c57ed4db-articleLarge.jpg?quality=75&auto=webp&disable=upscale', 'Images_7': 'https://static01.nyt.com/images/2021/02/28/world/28virus-briefing-testing-slump/28virus-briefing-testing-slump-articleLarge.jpg?quality=75&auto=webp&disable=upscale', 'Images_8': 'https://static01.nyt.com/images/2021/03/01/us/01vid-jandj-vaccine1/01vid-jandj-vaccine1-videoSixteenByNine3000.jpg', 'Images_9': 'https://static01.nyt.com/images/2020/12/18/us/johnson-johnson-covid-19-vaccine-promo-1608323214725/johnson-johnson-covid-19-vaccine-promo-1608323214725-articleLarge-v8.png', 'Images_10': 'https://static01.nyt.com/images/2014/10/16/business/01virus-brief-frontier-masks/01virus-brief-frontier-masks-articleLarge-v3.jpg?quality=75&auto=webp&disable=upscale', 'Images_11': 'https://static01.nyt.com/images/2021/03/01/world/01Virus-briefing-india/01Virus-briefing-india-videoSixteenByNine1050.jpg', 'Images_12': 'https://static01.nyt.com/images/2021/03/01/us/politics/01new-washington-briefing-trump-vaccine/merlin_182604096_eb7195af-7aff-4cc1-896f-5439b739f528-articleLarge.jpg?quality=75&auto=webp&disable=upscale', 'Images_13': 'https://static01.nyt.com/images/2021/02/28/us/28virus-briefing-Houston-variants/merlin_184028193_a98e2191-9ced-42ae-b5e2-ec40515a0d46-articleLarge.jpg?quality=75&auto=webp&disable=upscale', 'Images_14': 'https://static01.nyt.com/images/2021/03/01/science/01virus-brief-vax-nodes/merlin_182913006_f36d75d1-a312-4fe1-b2b9-3a702c6d3e6d-articleLarge.jpg?quality=75&auto=webp&disable=upscale', 'Images_15': 'https://static01.nyt.com/images/2021/03/28/us/28virus-briefing-jandj-compared2/28virus-briefing-jandj-compared2-articleLarge.jpg?quality=75&auto=webp&disable=upscale', 'Images_16': 'https://static01.nyt.com/images/2021/02/25/business/state-tax-revenue-map-1614295652582/state-tax-revenue-map-1614295652582-articleLarge-v3.png?quality=75&auto=webp&disable=upscale', 'Images_17': 'https://static01.nyt.com/images/2021/03/01/world/01virus-briefing-europe-certificates1/01virus-briefing-europe-certificates1-articleLarge.jpg?quality=75&auto=webp&disable=upscale', 'num_outgoing_links': 1, 'website_last_modified': 'Tue, 02 Mar 2021 11:44:46 GMT'}, {'Sentence': 'The early clinical trials of the AstraZeneca vaccine did not enroll as many older people as the trials of other shots, making a number of European countries uneasy about using it in that age group .But Britain decided to authorize the vaccine for people of all ages, creating a valuable store of data on its effectiveness.In France, one of the countries that had restricted the AstraZeneca vaccine to younger people, the country', 'Images_1': 'https://static01.nyt.com/images/2021/03/01/us/01virus-brief-reopening/01virus-brief-reopening-articleLarge.jpg?quality=75&auto=webp&disable=upscale', 'Images_2': 'https://static01.nytimes.com/newsgraphics/2020/12/09/vaccine-distribution-tracker/assets/scoop-vaccine-distribution-tracker-threeByTwoSmallAt2X.png', 'Images_3': 'https://static01.nyt.com/images/2021/03/01/world/01virus-briefing-astrazenecadata1/01virus-briefing-astrazenecadata1-articleLarge.jpg?quality=75&auto=webp&disable=upscale', 'Images_4': 'https://static01.nyt.com/images/2021/03/01/us/01virus-briefing-california-schools1/merlin_184430547_323a1ef8-5d4e-4251-bd70-062996d30dc2-articleLarge.jpg?quality=75&auto=webp&disable=upscale', 'Images_5': 'https://static01.nyt.com/images/2021/03/01/science/01virus-briefing-nursing-home-turnover1/merlin_173519019_916a9410-1e54-471d-8e20-6e2254372d77-articleLarge.jpg?quality=75&auto=webp&disable=upscale', 'Images_6': 'https://static01.nyt.com/images/2021/03/02/us/02virus-brief-vaccine-eligibility/merlin_184244694_463b50af-bf28-4962-8735-77b9c57ed4db-articleLarge.jpg?quality=75&auto=webp&disable=upscale', 'Images_7': 'https://static01.nyt.com/images/2021/02/28/world/28virus-briefing-testing-slump/28virus-briefing-testing-slump-articleLarge.jpg?quality=75&auto=webp&disable=upscale', 'Images_8': 'https://static01.nyt.com/images/2021/03/01/us/01vid-jandj-vaccine1/01vid-jandj-vaccine1-videoSixteenByNine3000.jpg', 'Images_9': 'https://static01.nyt.com/images/2020/12/18/us/johnson-johnson-covid-19-vaccine-promo-1608323214725/johnson-johnson-covid-19-vaccine-promo-1608323214725-articleLarge-v8.png', 'Images_10': 'https://static01.nyt.com/images/2014/10/16/business/01virus-brief-frontier-masks/01virus-brief-frontier-masks-articleLarge-v3.jpg?quality=75&auto=webp&disable=upscale', 'Images_11': 'https://static01.nyt.com/images/2021/03/01/world/01Virus-briefing-india/01Virus-briefing-india-videoSixteenByNine1050.jpg', 'Images_12': 'https://static01.nyt.com/images/2021/03/01/us/politics/01new-washington-briefing-trump-vaccine/merlin_182604096_eb7195af-7aff-4cc1-896f-5439b739f528-articleLarge.jpg?quality=75&auto=webp&disable=upscale', 'Images_13': 'https://static01.nyt.com/images/2021/02/28/us/28virus-briefing-Houston-variants/merlin_184028193_a98e2191-9ced-42ae-b5e2-ec40515a0d46-articleLarge.jpg?quality=75&auto=webp&disable=upscale', 'Images_14': 'https://static01.nyt.com/images/2021/03/01/science/01virus-brief-vax-nodes/merlin_182913006_f36d75d1-a312-4fe1-b2b9-3a702c6d3e6d-articleLarge.jpg?quality=75&auto=webp&disable=upscale', 'Images_15': 'https://static01.nyt.com/images/2021/03/28/us/28virus-briefing-jandj-compared2/28virus-briefing-jandj-compared2-articleLarge.jpg?quality=75&auto=webp&disable=upscale', 'Images_16': 'https://static01.nyt.com/images/2021/02/25/business/state-tax-revenue-map-1614295652582/state-tax-revenue-map-1614295652582-articleLarge-v3.png?quality=75&auto=webp&disable=upscale', 'Images_17': 'https://static01.nyt.com/images/2021/03/01/world/01virus-briefing-europe-certificates1/01virus-briefing-europe-certificates1-articleLarge.jpg?quality=75&auto=webp&disable=upscale', 'num_outgoing_links': 1, 'website_last_modified': 'Tue, 02 Mar 2021 11:44:46 GMT'}]\n"
          ],
          "name": "stdout"
        }
      ]
    },
    {
      "cell_type": "code",
      "metadata": {
        "colab": {
          "base_uri": "https://localhost:8080/",
          "height": 1000
        },
        "id": "vv6sAdBPrUzD",
        "outputId": "45f6d5b4-f6f1-47de-af65-c7178dcd8617"
      },
      "source": [
        "# covert the optimized json object \"JSON_list_final\" and export as csv\n",
        "tocsv = pd.json_normalize(JSON_list_final)\n",
        "tocsv.head(10)"
      ],
      "execution_count": null,
      "outputs": [
        {
          "output_type": "execute_result",
          "data": {
            "text/html": [
              "<div>\n",
              "<style scoped>\n",
              "    .dataframe tbody tr th:only-of-type {\n",
              "        vertical-align: middle;\n",
              "    }\n",
              "\n",
              "    .dataframe tbody tr th {\n",
              "        vertical-align: top;\n",
              "    }\n",
              "\n",
              "    .dataframe thead th {\n",
              "        text-align: right;\n",
              "    }\n",
              "</style>\n",
              "<table border=\"1\" class=\"dataframe\">\n",
              "  <thead>\n",
              "    <tr style=\"text-align: right;\">\n",
              "      <th></th>\n",
              "      <th>Sentence</th>\n",
              "      <th>Images_1</th>\n",
              "      <th>Images_2</th>\n",
              "      <th>Images_3</th>\n",
              "      <th>Images_4</th>\n",
              "      <th>Images_5</th>\n",
              "      <th>Images_6</th>\n",
              "      <th>Images_7</th>\n",
              "      <th>Images_8</th>\n",
              "      <th>Images_9</th>\n",
              "      <th>Images_10</th>\n",
              "      <th>Images_11</th>\n",
              "      <th>Images_12</th>\n",
              "      <th>Images_13</th>\n",
              "      <th>Images_14</th>\n",
              "      <th>Images_15</th>\n",
              "      <th>Images_16</th>\n",
              "      <th>Images_17</th>\n",
              "      <th>num_outgoing_links</th>\n",
              "      <th>website_last_modified</th>\n",
              "    </tr>\n",
              "  </thead>\n",
              "  <tbody>\n",
              "    <tr>\n",
              "      <th>0</th>\n",
              "      <td>A first dose of the Oxford-AstraZeneca vaccine...</td>\n",
              "      <td>https://static01.nyt.com/images/2021/03/01/us/...</td>\n",
              "      <td>https://static01.nytimes.com/newsgraphics/2020...</td>\n",
              "      <td>https://static01.nyt.com/images/2021/03/01/wor...</td>\n",
              "      <td>https://static01.nyt.com/images/2021/03/01/us/...</td>\n",
              "      <td>https://static01.nyt.com/images/2021/03/01/sci...</td>\n",
              "      <td>https://static01.nyt.com/images/2021/03/02/us/...</td>\n",
              "      <td>https://static01.nyt.com/images/2021/02/28/wor...</td>\n",
              "      <td>https://static01.nyt.com/images/2021/03/01/us/...</td>\n",
              "      <td>https://static01.nyt.com/images/2020/12/18/us/...</td>\n",
              "      <td>https://static01.nyt.com/images/2014/10/16/bus...</td>\n",
              "      <td>https://static01.nyt.com/images/2021/03/01/wor...</td>\n",
              "      <td>https://static01.nyt.com/images/2021/03/01/us/...</td>\n",
              "      <td>https://static01.nyt.com/images/2021/02/28/us/...</td>\n",
              "      <td>https://static01.nyt.com/images/2021/03/01/sci...</td>\n",
              "      <td>https://static01.nyt.com/images/2021/03/28/us/...</td>\n",
              "      <td>https://static01.nyt.com/images/2021/02/25/bus...</td>\n",
              "      <td>https://static01.nyt.com/images/2021/03/01/wor...</td>\n",
              "      <td>1</td>\n",
              "      <td>Tue, 02 Mar 2021 11:44:46 GMT</td>\n",
              "    </tr>\n",
              "    <tr>\n",
              "      <th>1</th>\n",
              "      <td>The early clinical trials of the AstraZeneca v...</td>\n",
              "      <td>https://static01.nyt.com/images/2021/03/01/us/...</td>\n",
              "      <td>https://static01.nytimes.com/newsgraphics/2020...</td>\n",
              "      <td>https://static01.nyt.com/images/2021/03/01/wor...</td>\n",
              "      <td>https://static01.nyt.com/images/2021/03/01/us/...</td>\n",
              "      <td>https://static01.nyt.com/images/2021/03/01/sci...</td>\n",
              "      <td>https://static01.nyt.com/images/2021/03/02/us/...</td>\n",
              "      <td>https://static01.nyt.com/images/2021/02/28/wor...</td>\n",
              "      <td>https://static01.nyt.com/images/2021/03/01/us/...</td>\n",
              "      <td>https://static01.nyt.com/images/2020/12/18/us/...</td>\n",
              "      <td>https://static01.nyt.com/images/2014/10/16/bus...</td>\n",
              "      <td>https://static01.nyt.com/images/2021/03/01/wor...</td>\n",
              "      <td>https://static01.nyt.com/images/2021/03/01/us/...</td>\n",
              "      <td>https://static01.nyt.com/images/2021/02/28/us/...</td>\n",
              "      <td>https://static01.nyt.com/images/2021/03/01/sci...</td>\n",
              "      <td>https://static01.nyt.com/images/2021/03/28/us/...</td>\n",
              "      <td>https://static01.nyt.com/images/2021/02/25/bus...</td>\n",
              "      <td>https://static01.nyt.com/images/2021/03/01/wor...</td>\n",
              "      <td>1</td>\n",
              "      <td>Tue, 02 Mar 2021 11:44:46 GMT</td>\n",
              "    </tr>\n",
              "    <tr>\n",
              "      <th>2</th>\n",
              "      <td>Among people at least 70 years old, a first do...</td>\n",
              "      <td>https://static01.nyt.com/images/2021/03/01/us/...</td>\n",
              "      <td>https://static01.nytimes.com/newsgraphics/2020...</td>\n",
              "      <td>https://static01.nyt.com/images/2021/03/01/wor...</td>\n",
              "      <td>https://static01.nyt.com/images/2021/03/01/us/...</td>\n",
              "      <td>https://static01.nyt.com/images/2021/03/01/sci...</td>\n",
              "      <td>https://static01.nyt.com/images/2021/03/02/us/...</td>\n",
              "      <td>https://static01.nyt.com/images/2021/02/28/wor...</td>\n",
              "      <td>https://static01.nyt.com/images/2021/03/01/us/...</td>\n",
              "      <td>https://static01.nyt.com/images/2020/12/18/us/...</td>\n",
              "      <td>https://static01.nyt.com/images/2014/10/16/bus...</td>\n",
              "      <td>https://static01.nyt.com/images/2021/03/01/wor...</td>\n",
              "      <td>https://static01.nyt.com/images/2021/03/01/us/...</td>\n",
              "      <td>https://static01.nyt.com/images/2021/02/28/us/...</td>\n",
              "      <td>https://static01.nyt.com/images/2021/03/01/sci...</td>\n",
              "      <td>https://static01.nyt.com/images/2021/03/28/us/...</td>\n",
              "      <td>https://static01.nyt.com/images/2021/02/25/bus...</td>\n",
              "      <td>https://static01.nyt.com/images/2021/03/01/wor...</td>\n",
              "      <td>1</td>\n",
              "      <td>Tue, 02 Mar 2021 11:44:46 GMT</td>\n",
              "    </tr>\n",
              "    <tr>\n",
              "      <th>3</th>\n",
              "      <td>In people at least 80 years old, a first dose ...</td>\n",
              "      <td>https://static01.nyt.com/images/2021/03/01/us/...</td>\n",
              "      <td>https://static01.nytimes.com/newsgraphics/2020...</td>\n",
              "      <td>https://static01.nyt.com/images/2021/03/01/wor...</td>\n",
              "      <td>https://static01.nyt.com/images/2021/03/01/us/...</td>\n",
              "      <td>https://static01.nyt.com/images/2021/03/01/sci...</td>\n",
              "      <td>https://static01.nyt.com/images/2021/03/02/us/...</td>\n",
              "      <td>https://static01.nyt.com/images/2021/02/28/wor...</td>\n",
              "      <td>https://static01.nyt.com/images/2021/03/01/us/...</td>\n",
              "      <td>https://static01.nyt.com/images/2020/12/18/us/...</td>\n",
              "      <td>https://static01.nyt.com/images/2014/10/16/bus...</td>\n",
              "      <td>https://static01.nyt.com/images/2021/03/01/wor...</td>\n",
              "      <td>https://static01.nyt.com/images/2021/03/01/us/...</td>\n",
              "      <td>https://static01.nyt.com/images/2021/02/28/us/...</td>\n",
              "      <td>https://static01.nyt.com/images/2021/03/01/sci...</td>\n",
              "      <td>https://static01.nyt.com/images/2021/03/28/us/...</td>\n",
              "      <td>https://static01.nyt.com/images/2021/02/25/bus...</td>\n",
              "      <td>https://static01.nyt.com/images/2021/03/01/wor...</td>\n",
              "      <td>1</td>\n",
              "      <td>Tue, 02 Mar 2021 11:44:46 GMT</td>\n",
              "    </tr>\n",
              "    <tr>\n",
              "      <th>4</th>\n",
              "      <td>Johnson vaccine, though, it may be possible t...</td>\n",
              "      <td>https://static01.nyt.com/images/2021/03/01/us/...</td>\n",
              "      <td>https://static01.nytimes.com/newsgraphics/2020...</td>\n",
              "      <td>https://static01.nyt.com/images/2021/03/01/wor...</td>\n",
              "      <td>https://static01.nyt.com/images/2021/03/01/us/...</td>\n",
              "      <td>https://static01.nyt.com/images/2021/03/01/sci...</td>\n",
              "      <td>https://static01.nyt.com/images/2021/03/02/us/...</td>\n",
              "      <td>https://static01.nyt.com/images/2021/02/28/wor...</td>\n",
              "      <td>https://static01.nyt.com/images/2021/03/01/us/...</td>\n",
              "      <td>https://static01.nyt.com/images/2020/12/18/us/...</td>\n",
              "      <td>https://static01.nyt.com/images/2014/10/16/bus...</td>\n",
              "      <td>https://static01.nyt.com/images/2021/03/01/wor...</td>\n",
              "      <td>https://static01.nyt.com/images/2021/03/01/us/...</td>\n",
              "      <td>https://static01.nyt.com/images/2021/02/28/us/...</td>\n",
              "      <td>https://static01.nyt.com/images/2021/03/01/sci...</td>\n",
              "      <td>https://static01.nyt.com/images/2021/03/28/us/...</td>\n",
              "      <td>https://static01.nyt.com/images/2021/02/25/bus...</td>\n",
              "      <td>https://static01.nyt.com/images/2021/03/01/wor...</td>\n",
              "      <td>1</td>\n",
              "      <td>Tue, 02 Mar 2021 11:44:46 GMT</td>\n",
              "    </tr>\n",
              "    <tr>\n",
              "      <th>5</th>\n",
              "      <td>Iceland is undertaking a similar effort, he sa...</td>\n",
              "      <td>https://static01.nyt.com/images/2021/03/01/us/...</td>\n",
              "      <td>https://static01.nytimes.com/newsgraphics/2020...</td>\n",
              "      <td>https://static01.nyt.com/images/2021/03/01/wor...</td>\n",
              "      <td>https://static01.nyt.com/images/2021/03/01/us/...</td>\n",
              "      <td>https://static01.nyt.com/images/2021/03/01/sci...</td>\n",
              "      <td>https://static01.nyt.com/images/2021/03/02/us/...</td>\n",
              "      <td>https://static01.nyt.com/images/2021/02/28/wor...</td>\n",
              "      <td>https://static01.nyt.com/images/2021/03/01/us/...</td>\n",
              "      <td>https://static01.nyt.com/images/2020/12/18/us/...</td>\n",
              "      <td>https://static01.nyt.com/images/2014/10/16/bus...</td>\n",
              "      <td>https://static01.nyt.com/images/2021/03/01/wor...</td>\n",
              "      <td>https://static01.nyt.com/images/2021/03/01/us/...</td>\n",
              "      <td>https://static01.nyt.com/images/2021/02/28/us/...</td>\n",
              "      <td>https://static01.nyt.com/images/2021/03/01/sci...</td>\n",
              "      <td>https://static01.nyt.com/images/2021/03/28/us/...</td>\n",
              "      <td>https://static01.nyt.com/images/2021/02/25/bus...</td>\n",
              "      <td>https://static01.nyt.com/images/2021/03/01/wor...</td>\n",
              "      <td>1</td>\n",
              "      <td>Tue, 02 Mar 2021 11:44:46 GMT</td>\n",
              "    </tr>\n",
              "    <tr>\n",
              "      <th>6</th>\n",
              "      <td>Johnson vaccine is rated as highly effective ...</td>\n",
              "      <td>https://static01.nyt.com/images/2021/03/01/us/...</td>\n",
              "      <td>https://static01.nytimes.com/newsgraphics/2020...</td>\n",
              "      <td>https://static01.nyt.com/images/2021/03/01/wor...</td>\n",
              "      <td>https://static01.nyt.com/images/2021/03/01/us/...</td>\n",
              "      <td>https://static01.nyt.com/images/2021/03/01/sci...</td>\n",
              "      <td>https://static01.nyt.com/images/2021/03/02/us/...</td>\n",
              "      <td>https://static01.nyt.com/images/2021/02/28/wor...</td>\n",
              "      <td>https://static01.nyt.com/images/2021/03/01/us/...</td>\n",
              "      <td>https://static01.nyt.com/images/2020/12/18/us/...</td>\n",
              "      <td>https://static01.nyt.com/images/2014/10/16/bus...</td>\n",
              "      <td>https://static01.nyt.com/images/2021/03/01/wor...</td>\n",
              "      <td>https://static01.nyt.com/images/2021/03/01/us/...</td>\n",
              "      <td>https://static01.nyt.com/images/2021/02/28/us/...</td>\n",
              "      <td>https://static01.nyt.com/images/2021/03/01/sci...</td>\n",
              "      <td>https://static01.nyt.com/images/2021/03/28/us/...</td>\n",
              "      <td>https://static01.nyt.com/images/2021/02/25/bus...</td>\n",
              "      <td>https://static01.nyt.com/images/2021/03/01/wor...</td>\n",
              "      <td>1</td>\n",
              "      <td>Tue, 02 Mar 2021 11:44:46 GMT</td>\n",
              "    </tr>\n",
              "    <tr>\n",
              "      <th>7</th>\n",
              "      <td>It is also very effective at preventing milder...</td>\n",
              "      <td>https://static01.nyt.com/images/2021/03/01/us/...</td>\n",
              "      <td>https://static01.nytimes.com/newsgraphics/2020...</td>\n",
              "      <td>https://static01.nyt.com/images/2021/03/01/wor...</td>\n",
              "      <td>https://static01.nyt.com/images/2021/03/01/us/...</td>\n",
              "      <td>https://static01.nyt.com/images/2021/03/01/sci...</td>\n",
              "      <td>https://static01.nyt.com/images/2021/03/02/us/...</td>\n",
              "      <td>https://static01.nyt.com/images/2021/02/28/wor...</td>\n",
              "      <td>https://static01.nyt.com/images/2021/03/01/us/...</td>\n",
              "      <td>https://static01.nyt.com/images/2020/12/18/us/...</td>\n",
              "      <td>https://static01.nyt.com/images/2014/10/16/bus...</td>\n",
              "      <td>https://static01.nyt.com/images/2021/03/01/wor...</td>\n",
              "      <td>https://static01.nyt.com/images/2021/03/01/us/...</td>\n",
              "      <td>https://static01.nyt.com/images/2021/02/28/us/...</td>\n",
              "      <td>https://static01.nyt.com/images/2021/03/01/sci...</td>\n",
              "      <td>https://static01.nyt.com/images/2021/03/28/us/...</td>\n",
              "      <td>https://static01.nyt.com/images/2021/02/25/bus...</td>\n",
              "      <td>https://static01.nyt.com/images/2021/03/01/wor...</td>\n",
              "      <td>1</td>\n",
              "      <td>Tue, 02 Mar 2021 11:44:46 GMT</td>\n",
              "    </tr>\n",
              "    <tr>\n",
              "      <th>8</th>\n",
              "      <td>Johnson vaccine appears to be less prone than...</td>\n",
              "      <td>https://static01.nyt.com/images/2021/03/01/us/...</td>\n",
              "      <td>https://static01.nytimes.com/newsgraphics/2020...</td>\n",
              "      <td>https://static01.nyt.com/images/2021/03/01/wor...</td>\n",
              "      <td>https://static01.nyt.com/images/2021/03/01/us/...</td>\n",
              "      <td>https://static01.nyt.com/images/2021/03/01/sci...</td>\n",
              "      <td>https://static01.nyt.com/images/2021/03/02/us/...</td>\n",
              "      <td>https://static01.nyt.com/images/2021/02/28/wor...</td>\n",
              "      <td>https://static01.nyt.com/images/2021/03/01/us/...</td>\n",
              "      <td>https://static01.nyt.com/images/2020/12/18/us/...</td>\n",
              "      <td>https://static01.nyt.com/images/2014/10/16/bus...</td>\n",
              "      <td>https://static01.nyt.com/images/2021/03/01/wor...</td>\n",
              "      <td>https://static01.nyt.com/images/2021/03/01/us/...</td>\n",
              "      <td>https://static01.nyt.com/images/2021/02/28/us/...</td>\n",
              "      <td>https://static01.nyt.com/images/2021/03/01/sci...</td>\n",
              "      <td>https://static01.nyt.com/images/2021/03/28/us/...</td>\n",
              "      <td>https://static01.nyt.com/images/2021/02/25/bus...</td>\n",
              "      <td>https://static01.nyt.com/images/2021/03/01/wor...</td>\n",
              "      <td>1</td>\n",
              "      <td>Tue, 02 Mar 2021 11:44:46 GMT</td>\n",
              "    </tr>\n",
              "    <tr>\n",
              "      <th>9</th>\n",
              "      <td>There have been reports that side effects tend...</td>\n",
              "      <td>https://static01.nyt.com/images/2021/03/01/us/...</td>\n",
              "      <td>https://static01.nytimes.com/newsgraphics/2020...</td>\n",
              "      <td>https://static01.nyt.com/images/2021/03/01/wor...</td>\n",
              "      <td>https://static01.nyt.com/images/2021/03/01/us/...</td>\n",
              "      <td>https://static01.nyt.com/images/2021/03/01/sci...</td>\n",
              "      <td>https://static01.nyt.com/images/2021/03/02/us/...</td>\n",
              "      <td>https://static01.nyt.com/images/2021/02/28/wor...</td>\n",
              "      <td>https://static01.nyt.com/images/2021/03/01/us/...</td>\n",
              "      <td>https://static01.nyt.com/images/2020/12/18/us/...</td>\n",
              "      <td>https://static01.nyt.com/images/2014/10/16/bus...</td>\n",
              "      <td>https://static01.nyt.com/images/2021/03/01/wor...</td>\n",
              "      <td>https://static01.nyt.com/images/2021/03/01/us/...</td>\n",
              "      <td>https://static01.nyt.com/images/2021/02/28/us/...</td>\n",
              "      <td>https://static01.nyt.com/images/2021/03/01/sci...</td>\n",
              "      <td>https://static01.nyt.com/images/2021/03/28/us/...</td>\n",
              "      <td>https://static01.nyt.com/images/2021/02/25/bus...</td>\n",
              "      <td>https://static01.nyt.com/images/2021/03/01/wor...</td>\n",
              "      <td>1</td>\n",
              "      <td>Tue, 02 Mar 2021 11:44:46 GMT</td>\n",
              "    </tr>\n",
              "  </tbody>\n",
              "</table>\n",
              "</div>"
            ],
            "text/plain": [
              "                                            Sentence  ...          website_last_modified\n",
              "0  A first dose of the Oxford-AstraZeneca vaccine...  ...  Tue, 02 Mar 2021 11:44:46 GMT\n",
              "1  The early clinical trials of the AstraZeneca v...  ...  Tue, 02 Mar 2021 11:44:46 GMT\n",
              "2  Among people at least 70 years old, a first do...  ...  Tue, 02 Mar 2021 11:44:46 GMT\n",
              "3  In people at least 80 years old, a first dose ...  ...  Tue, 02 Mar 2021 11:44:46 GMT\n",
              "4   Johnson vaccine, though, it may be possible t...  ...  Tue, 02 Mar 2021 11:44:46 GMT\n",
              "5  Iceland is undertaking a similar effort, he sa...  ...  Tue, 02 Mar 2021 11:44:46 GMT\n",
              "6   Johnson vaccine is rated as highly effective ...  ...  Tue, 02 Mar 2021 11:44:46 GMT\n",
              "7  It is also very effective at preventing milder...  ...  Tue, 02 Mar 2021 11:44:46 GMT\n",
              "8   Johnson vaccine appears to be less prone than...  ...  Tue, 02 Mar 2021 11:44:46 GMT\n",
              "9  There have been reports that side effects tend...  ...  Tue, 02 Mar 2021 11:44:46 GMT\n",
              "\n",
              "[10 rows x 20 columns]"
            ]
          },
          "metadata": {
            "tags": []
          },
          "execution_count": 103
        }
      ]
    },
    {
      "cell_type": "code",
      "metadata": {
        "id": "1H5WiA8praHA"
      },
      "source": [
        " # export as csv\n",
        "tocsv.to_csv('covid19.csv')"
      ],
      "execution_count": null,
      "outputs": []
    },
    {
      "cell_type": "code",
      "metadata": {
        "id": "UAUyUKB0wkBh"
      },
      "source": [
        ""
      ],
      "execution_count": null,
      "outputs": []
    }
  ]
}