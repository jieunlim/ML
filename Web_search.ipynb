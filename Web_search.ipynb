{
  "nbformat": 4,
  "nbformat_minor": 0,
  "metadata": {
    "colab": {
      "name": "Assignment 1",
      "provenance": [],
      "collapsed_sections": [],
      "toc_visible": true
    },
    "kernelspec": {
      "display_name": "Python 3",
      "name": "python3"
    }
  },
  "cells": [
    {
      "cell_type": "markdown",
      "metadata": {
        "id": "IoZscFMPvMpl"
      },
      "source": [
        "### TOPIC : Dog adoption\n",
        "Prework: find 10~20 websites about this topic."
      ]
    },
    {
      "cell_type": "code",
      "metadata": {
        "colab": {
          "base_uri": "https://localhost:8080/"
        },
        "id": "ronX9wibrK-M",
        "outputId": "bfb803d5-4984-48a1-c69e-86aff4a15e6e"
      },
      "source": [
        "import requests\n",
        "from bs4 import BeautifulSoup\n",
        "from collections import Counter\n",
        "import nltk\n",
        "nltk.download('punkt')\n",
        "import re\n",
        "\n",
        "keyword = \"dog adopt\"\n",
        "url = \"https://www.google.com/search?q=\"+ keyword\n",
        "\n",
        "request_result = requests.get(url)\n",
        "soup = BeautifulSoup(request_result.text, \"html.parser\")\n",
        "\n",
        "sites = []\n",
        "a = soup.find_all('a')\n",
        "\n",
        "for i in a:\n",
        "  k = i.get('href')\n",
        "  try:\n",
        "    m = re.search(\"(?P<url>https?://[^\\s]+)\", k)\n",
        "    n = m.group(0)\n",
        "    rul = n.split('&')[0]\n",
        "    if re.search('maps', rul) or re.search('UTF-8', rul):\n",
        "      continue\n",
        "    else: \n",
        "      sites.append(rul)\n",
        "  except:\n",
        "    continue\n",
        "sites = set(sites)\n",
        "print(sites)"
      ],
      "execution_count": null,
      "outputs": [
        {
          "output_type": "stream",
          "text": [
            "[nltk_data] Downloading package punkt to /root/nltk_data...\n",
            "[nltk_data]   Unzipping tokenizers/punkt.zip.\n",
            "{'https://www.google.com/imgres?imgurl=https://bloximages.chicago2.vip.townnews.com/tucson.com/content/tncms/assets/v3/editorial/a/67/a67eafa2-5c5b-5e8c-8b25-43c60604ca35/5c245fdda80a6.image.jpg?resize%3D1200%252C1200', 'https://www.adoptapet.com/dog-adoption', 'https://www.petfinder.com/', 'https://accounts.google.com/ServiceLogin%3Fcontinue%3Dhttps://www.google.com/search%253Fq%253Ddog%252Badopt%26hl%3Den', 'https://policies.google.com/privacy?hl=en', 'https://www.petfinder.com/dog-breeds/', 'https://www.petfinder.com/pet-adoption/dog-adoption/puppies-for-adoption/', 'https://www.google.com/imgres?imgurl=https://d17fnq9dkz9hgj.cloudfront.net/uploads/2019/09/iStock-1090668790-253x253.jpg', 'https://support.google.com/websearch%3Fp%3Dws_settings_location%26hl%3Den', 'https://www.adoptapet.com/s/adopt-a-goldendoodle', 'https://www.petfinder.com/pet-adoption/dog-adoption/finding-your-best-bud/', 'https://www.google.com/imgres?imgurl=https://d17fnq9dkz9hgj.cloudfront.net/uploads/2018/08/PF2015_407_Ryder_Steps.jpg', 'https://policies.google.com/terms?hl=en', 'https://www.petcofoundation.org/put-your-love-into-action/learn-about-adoption/search-adoptable-pets/', 'https://www.petfinder.com/dogs/', 'https://www.petsmart.com/adoption/people-saving-pets/ca-adoption-landing.html', 'https://bestfriends.org/adopt/adopt-our-sanctuary/dogs', 'https://www.google.com/preferences?hl=en', 'https://adopt-a-dog.org/', 'https://www.petfinder.com/pet-adoption/dog-adoption/', 'https://www.petfinder.com/pet-adoption/dog-adoption/pledge-dog-adopters/', 'https://www.adoptapet.com/pet/11477953-beverly-hills-california-australian-shepherd', 'https://www.google.com/imgres?imgurl=https://www.humanesocietymiami.org/wp-content/uploads/2020/04/Adopt-a-shelter-pet-today_dog-2000px.jpg', 'https://www.adoptapet.com/pet/28856631-west-hollywood-california-german-shepherd-dog', 'https://www.google.com/imgres?imgurl=https://d17fnq9dkz9hgj.cloudfront.net/uploads/2020/04/shelter-dog-cropped-1-632x329.jpg', 'https://www.google.com/imgres?imgurl=https://cdn.petcarerx.com/LPPE/images/articlethumbs/Adopt-Shelter-Dog-Large.jpg', 'https://theshelterpetproject.org/', 'https://www.aspca.org/adopt-pet/adoptable-dogs-your-local-shelter', 'https://www.petfinder.com/search/dogs-for-adoption/us/ca/los-angeles/'}\n"
          ],
          "name": "stdout"
        }
      ]
    },
    {
      "cell_type": "markdown",
      "metadata": {
        "id": "IehOyUCD0TR2"
      },
      "source": [
        "Part 1 (20 pts)\n",
        "For each website, create a JSON object of the page that have\n",
        "\n",
        "*   images (urls or the images themselves) \n",
        "*   sentences containing a few keywords.\n",
        "*   outgoing links\n",
        "*   website/post last-modified (from r.header. r is the object returned from the request.) \n"
      ]
    },
    {
      "cell_type": "code",
      "metadata": {
        "id": "cUXsIzakD5Ic"
      },
      "source": [
        "# 1) images  \n",
        "# results = soup.find_all('img')\n",
        "\n",
        "def get_request_result(url):\n",
        "  request_result = requests.get(url)\n",
        "  soup = BeautifulSoup(request_result.text, \"html.parser\")\n",
        "  return soup\n",
        "\n",
        "def get_img(soup, from_web=False):\n",
        "  results = soup.find_all('img')\n",
        "  images = [image for image in results]\n",
        "  print(images[:2])\n",
        "  return images\n",
        "\n",
        "# 2) sentences\n",
        "\n",
        "def get_sentences(soup):\n",
        "  sentences = []\n",
        "  results = soup.find_all('h')\n",
        "  text_bolbs = re.findall('[a-zA-Z0-9 .,-]+', str(request_result.content))\n",
        "  for text_bolb in text_bolbs:\n",
        "    if \" \" not in text_bolbs:\n",
        "      continue\n",
        "    sentences_lists = re.findall('[a-zA-Z0-9 ,-]+\\.', str(text_bolbs))\n",
        "    sentences_lists = [sentence for sentence in sentences if \"adopt\" in sentence or \"rescue\" in sentence]\n",
        "  print(sentences_lists[:2])\n",
        "  return sentences_lists\n",
        "#return sentences_lists\n",
        "\n",
        "\n",
        "# 3) outgoing links, unique count\n",
        "def get_outgoing_links(soup):\n",
        "  results = soup.find_all('a', href=True)\n",
        "  outgoing_links = []\n",
        "  count = 0\n",
        "  for link in results:\n",
        "    if link.get('href').startswith('https://') and link:\n",
        "      count += 1\n",
        "  return count\n",
        "\n",
        "# 4) website last-modified\n",
        "def get_last_modified(site):\n",
        "\n",
        "  website_last_modified = []\n",
        "  \n",
        "  r = requests.get(site, stream = True, allow_redirects= True)\n",
        "  header = r.headers\n",
        "  if \"Last-Modified\" in header:\n",
        "    url_dtime = r.headers[\"Last-Modified\"]\n",
        "  else:\n",
        "    url_dtime = \"?\"\n",
        "\n",
        "  website_last_modified.append(url_dtime)\n",
        "  print(website_last_modified[:2])\n",
        "  return website_last_modified\n",
        "  "
      ],
      "execution_count": null,
      "outputs": []
    },
    {
      "cell_type": "code",
      "metadata": {
        "colab": {
          "background_save": true,
          "base_uri": "https://localhost:8080/"
        },
        "id": "-2IOh7WxHBJ-",
        "outputId": "c662d6d1-f20a-4b22-f756-2d0fc101b30d"
      },
      "source": [
        "#Output can be list of the JSON objects\n",
        "JSON_list = []\n",
        "for site in sites:\n",
        "  soup = get_request_result(site)\n",
        "  sentence = get_sentences(soup)\n",
        "  image = get_img(soup)\n",
        "  num_outgoing_links = get_outgoing_links(soup)\n",
        "  websites_last_modified = get_last_modified(site)\n",
        "  data_store = [{'image': image, 'sentences': sentence, 'num_outgoing_links': num_outgoing_links, 'website_last_modified': websites_last_modified}]\n",
        "\n",
        "  #append object to ouput lists\n",
        "  JSON_list.append(data_store)\n",
        "\n"
      ],
      "execution_count": null,
      "outputs": [
        {
          "output_type": "stream",
          "text": [
            "[]\n",
            "[]\n",
            "['?']\n",
            "[]\n",
            "[<img alt=\"Quantcast\" border=\"0\" height=\"1\" src=\"//pixel.quantserve.com/pixel/p-55CMWLYE78WE-.gif\" width=\"1\"/>]\n",
            "['?']\n",
            "[]\n",
            "[<img alt=\"Petfinder's Logo\" class=\"logo\" height=\"48\" src=\"https://s3.amazonaws.com/petfinder-waf-error/Petfinder-Logo.png\" width=\"184\"/>]\n",
            "['?']\n",
            "[]\n",
            "[]\n",
            "['?']\n",
            "[]\n",
            "[<img alt=\"Google\" class=\"M5ACBc\" src=\"https://www.google.com/images/branding/googlelogo/1x/googlelogo_color_74x24dp.png\" srcset=\"https://www.google.com/images/branding/googlelogo/2x/googlelogo_color_74x24dp.png 2x\"/>, <img alt=\"Google\" class=\"M5ACBc\" src=\"https://www.google.com/images/branding/googlelogo/1x/googlelogo_color_74x24dp.png\" srcset=\"https://www.google.com/images/branding/googlelogo/2x/googlelogo_color_74x24dp.png 2x\"/>]\n",
            "['?']\n",
            "[]\n",
            "[<img alt=\"Petfinder's Logo\" class=\"logo\" height=\"48\" src=\"https://s3.amazonaws.com/petfinder-waf-error/Petfinder-Logo.png\" width=\"184\"/>]\n",
            "['?']\n",
            "[]\n",
            "[<img alt=\"Petfinder's Logo\" class=\"logo\" height=\"48\" src=\"https://s3.amazonaws.com/petfinder-waf-error/Petfinder-Logo.png\" width=\"184\"/>]\n",
            "['?']\n",
            "[]\n",
            "[]\n",
            "['?']\n",
            "[]\n",
            "[<img class=\"promoted-search-greeting__logo\" src=\"https://ssl.gstatic.com/images/branding/googleg/2x/googleg_standard_color_64dp.png\" title=\"Google logo\"/>, <img height=\"18\" src=\"//www.gstatic.com/images/branding/product/2x/googleg_24dp.png\" width=\"18\"/>]\n",
            "['?']\n",
            "[]\n",
            "[<img alt=\"Quantcast\" border=\"0\" height=\"1\" src=\"//pixel.quantserve.com/pixel/p-55CMWLYE78WE-.gif\" width=\"1\"/>]\n",
            "['?']\n",
            "[]\n",
            "[<img alt=\"Petfinder's Logo\" class=\"logo\" height=\"48\" src=\"https://s3.amazonaws.com/petfinder-waf-error/Petfinder-Logo.png\" width=\"184\"/>]\n",
            "['?']\n",
            "[]\n",
            "[]\n",
            "['?']\n",
            "[]\n",
            "[<img alt=\"Google\" class=\"M5ACBc\" src=\"https://www.google.com/images/branding/googlelogo/1x/googlelogo_color_74x24dp.png\" srcset=\"https://www.google.com/images/branding/googlelogo/2x/googlelogo_color_74x24dp.png 2x\"/>, <img alt=\"Google\" class=\"M5ACBc\" src=\"https://www.google.com/images/branding/googlelogo/1x/googlelogo_color_74x24dp.png\" srcset=\"https://www.google.com/images/branding/googlelogo/2x/googlelogo_color_74x24dp.png 2x\"/>]\n",
            "['?']\n",
            "[]\n",
            "[]\n",
            "['?']\n",
            "[]\n",
            "[<img alt=\"Petfinder's Logo\" class=\"logo\" height=\"48\" src=\"https://s3.amazonaws.com/petfinder-waf-error/Petfinder-Logo.png\" width=\"184\"/>]\n",
            "['?']\n",
            "[]\n",
            "[<img alt=\"PetSmart\" src=\"/on/demandware.static/Sites-PetSmart-Site/-/default/dw6a1e7674/images/petsmart-logo.png\"/>, <img src=\"//s7d2.scene7.com/is/image/PetSmart/5122562?wid=80&amp;hei=80\"/>]\n",
            "['?']\n",
            "[]\n",
            "[<img alt=\"Best Friends Animal Society\" src=\"https://s3fs.bestfriends.org/s3fs-public/bfas_sta.svg\"/>, <img alt=\"Best Friends Animal Society\" src=\"https://s3fs.bestfriends.org/s3fs-public/bfas_mob_wt.svg\"/>]\n",
            "['Tue, 02 Mar 2021 03:27:32 GMT']\n",
            "[]\n",
            "[<img align=\"top\" alt=\"\" height=\"18\" src=\"/images/warning.gif\" width=\"18\"/>]\n",
            "['?']\n",
            "[]\n",
            "[<img alt=\"Adopt-a-Dog, Inc.\" src=\"https://cdn.firespring.com/images/99e69449-a659-42b5-aade-b5736948def0.png\" title=\"logo\"/>, <img alt=\"Adopt\" height=\"64\" itemprop=\"image\" src=\"https://cdn.firespring.com/images/ebb02981-aed2-4bfb-951f-8f4543dad4a2.png\" srcset=\"https://cdn.firespring.com/images/ebb02981-aed2-4bfb-951f-8f4543dad4a2.png 64w\" width=\"64\"/>]\n",
            "['?']\n",
            "[]\n",
            "[<img alt=\"Petfinder's Logo\" class=\"logo\" height=\"48\" src=\"https://s3.amazonaws.com/petfinder-waf-error/Petfinder-Logo.png\" width=\"184\"/>]\n",
            "['?']\n",
            "[]\n",
            "[<img alt=\"Petfinder's Logo\" class=\"logo\" height=\"48\" src=\"https://s3.amazonaws.com/petfinder-waf-error/Petfinder-Logo.png\" width=\"184\"/>]\n",
            "['?']\n",
            "[]\n",
            "[<img alt=\"Quantcast\" border=\"0\" height=\"1\" src=\"//pixel.quantserve.com/pixel/p-55CMWLYE78WE-.gif\" width=\"1\"/>]\n",
            "['?']\n",
            "[]\n",
            "[]\n",
            "['?']\n",
            "[]\n",
            "[<img alt=\"Quantcast\" border=\"0\" height=\"1\" src=\"//pixel.quantserve.com/pixel/p-55CMWLYE78WE-.gif\" width=\"1\"/>]\n",
            "['?']\n",
            "[]\n",
            "[]\n",
            "['?']\n",
            "[]\n",
            "[]\n",
            "['?']\n",
            "[]\n",
            "[<img alt=\"The Shelter Pet Project logo\" height=\"436\" src=\"https://theshelterpetproject.org/wp-content/themes/shelter-pet-project/img/logo-white-608x436.png\" width=\"608\"/>, <img class=\"content-header__h1-image\" src=\"https://theshelterpetproject.org/wp-content/uploads/2019/01/h1-adoptpurelove.png\"/>]\n",
            "['?']\n",
            "[]\n",
            "[<img src=\"https://www.aspca.org/sites/default/files/covid-19_sidebar_032520_general_0.png\"/>, <img alt=\"Shop our holiday products!\" data-delta=\"1\" data-fid=\"192294\" data-media-element=\"1\" src=\"https://www.aspca.org/sites/default/files/winter-amazon-store-promo_111819_cozy.png\" title=\"\"/>]\n",
            "['Tue, 02 Mar 2021 08:00:23 GMT']\n",
            "[]\n",
            "[<img alt=\"Petfinder's Logo\" class=\"logo\" height=\"48\" src=\"https://s3.amazonaws.com/petfinder-waf-error/Petfinder-Logo.png\" width=\"184\"/>]\n",
            "['?']\n"
          ],
          "name": "stdout"
        }
      ]
    },
    {
      "cell_type": "code",
      "metadata": {
        "id": "Hjl7vS7rl_uw"
      },
      "source": [
        "#check missing val\n",
        "#df[categorical].isnull().sum()\n",
        "\n",
        "# replace '?' values in workclass variable with `NaN`\n",
        "#df['workclass'].replace(np.NaN, '?',inplace=True)"
      ],
      "execution_count": null,
      "outputs": []
    },
    {
      "cell_type": "code",
      "metadata": {
        "id": "p4Q1xFy-vsgC"
      },
      "source": [
        "print(JSON_list[:2])"
      ],
      "execution_count": null,
      "outputs": []
    },
    {
      "cell_type": "code",
      "metadata": {
        "id": "vlP8jxpkyZsm"
      },
      "source": [
        "import urllib.parse\n",
        "# import urllib.request\n",
        "\n",
        "# uh = urllib.request.urlopen(url)\n",
        "# data = uh.read()\n",
        "# print ('Retrieved',len(data),'characters')\n",
        "\n",
        "# df[categorical].isnull().sum()js = json.loads(data.decode(\"utf-8\"))"
      ],
      "execution_count": null,
      "outputs": []
    },
    {
      "cell_type": "code",
      "metadata": {
        "id": "_4IlQbAM4yYQ"
      },
      "source": [
        ""
      ],
      "execution_count": null,
      "outputs": []
    }
  ]
}